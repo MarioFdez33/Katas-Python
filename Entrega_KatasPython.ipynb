{
 "cells": [
  {
   "cell_type": "code",
   "execution_count": null,
   "id": "7e3d5ff9",
   "metadata": {},
   "outputs": [
    {
     "name": "stdout",
     "output_type": "stream",
     "text": [
      "Tu frase es: holatioquetalestas?\n",
      "{'h': 1, 'o': 2, 'l': 2, 'a': 3, 't': 3, 'i': 1, 'q': 1, 'u': 1, 'e': 2, 's': 2, '?': 1}\n"
     ]
    }
   ],
   "source": [
    "\"\"\"\n",
    "1. Escribe una función que reciba una cadena de texto como parámetro y devuelva un diccionario \n",
    "con las frecuencias de cada letra en la cadena. Los espacios no deben ser considerados.\n",
    "\"\"\"\n",
    "def funcion (frase):\n",
    "    diccionario_frecuencias = {}\n",
    "    frase_cambiada = \"\".join(frase.split()).lower()\n",
    "    print (\"Tu frase es:\",frase_cambiada)\n",
    "    for i in frase_cambiada:\n",
    "        diccionario_frecuencias[i] = frase_cambiada.count(i)\n",
    "    return (diccionario_frecuencias)\n",
    "\n",
    "\n",
    "print (funcion('Hola tIo qUe TaL esTAs?'))"
   ]
  },
  {
   "cell_type": "code",
   "execution_count": 41,
   "id": "d8a55027",
   "metadata": {},
   "outputs": [
    {
     "name": "stdout",
     "output_type": "stream",
     "text": [
      "[4, 8, 10, 12, 36, 60]\n"
     ]
    }
   ],
   "source": [
    "\"\"\"2. Dada una lista de números, obtén una nueva lista con el doble \n",
    "de cada valor. Usa la función map()\n",
    "\"\"\"\n",
    "lista_ejemplo = [2, 4, 5, 6, 18, 30]\n",
    "dobles = list(map(lambda x: x*2, lista_ejemplo))\n",
    "print (dobles)"
   ]
  },
  {
   "cell_type": "code",
   "execution_count": 49,
   "id": "9a21c3f7",
   "metadata": {},
   "outputs": [
    {
     "name": "stdout",
     "output_type": "stream",
     "text": [
      "['me gusta el futbol', 'ayer jugue al futbol', 'mañana hay futbol']\n"
     ]
    }
   ],
   "source": [
    "\"\"\"3. Escribe una función que tome una lista de palabras y una palabra objetivo \n",
    "como parámetros. La función debe devolver una lista con todas las palabras de la lista \n",
    "original que contengan la palabra objetivo.\n",
    "    \"\"\"\n",
    "def funcion_ej3(lista_palabras, palabra_objetivo):\n",
    "    return [palabra for palabra in lista_palabras if palabra_objetivo in palabra]\n",
    "\n",
    "palabra = \"futbol\"\n",
    "lista = [\"me gusta el futbol\", \"ayer jugue al futbol\", \"los lunes toca natacion\" \n",
    "         \"no me gusta el basket\", \"mis deportes favoritos son el waterpolo y el balonmano\",\n",
    "         \"mañana hay futbol\"]\n",
    "print (funcion_ej3(lista, palabra))"
   ]
  },
  {
   "cell_type": "code",
   "execution_count": 57,
   "id": "0f6cd00b",
   "metadata": {},
   "outputs": [
    {
     "name": "stdout",
     "output_type": "stream",
     "text": [
      "[15, 20, 25, 30]\n"
     ]
    }
   ],
   "source": [
    "\"\"\"4. Genera una función que calcule la diferencia entre \n",
    "    los valores de dos listas. Usa la función map()\"\"\"\n",
    "lista1 = [20, 30, 40, 50]\n",
    "lista2 = [5, 10, 15, 20]\n",
    "resta = list(map(lambda x,y: x-y, lista1, lista2))\n",
    "print(resta)"
   ]
  },
  {
   "cell_type": "code",
   "execution_count": 71,
   "id": "79d98dbe",
   "metadata": {},
   "outputs": [
    {
     "name": "stdout",
     "output_type": "stream",
     "text": [
      "(5.5, 'APROBADO')\n",
      "(4.33, 'SUSPENDIDO')\n"
     ]
    }
   ],
   "source": [
    "\"\"\"5. Ecribe una función que tome una lista de números como parámetro y un valor opcional nota_aprobado, que por\n",
    "defecto es 5. La función debe calcular la media de los números en la lista y determinar si la media es mayor o igual\n",
    "que nota aprobado. Si es así, el estado será \"aprobado\", de lo contrario, será \"suspenso\". La función debe devolver\n",
    "una tupla que contenga la media y el estado.\n",
    "\"\"\"\n",
    "def funcion_ej5(lista_numeros, nota_aprobado = 5):\n",
    "    total = 0\n",
    "    for nota in lista_numeros:\n",
    "        total += nota\n",
    "    if total/len(lista_numeros) > nota_aprobado:\n",
    "        return (round(total/len(lista_numeros),2), \"APROBADO\")\n",
    "    else: \n",
    "        return (round(total/len(lista_numeros),2) , \"SUSPENDIDO\")\n",
    "\n",
    "#ejemplo donde aprobaríamos\n",
    "print (funcion_ej5([5, 6, 7, 2, 3, 10]))\n",
    "#ejemplo donde suspenderiamos\n",
    "print (funcion_ej5([5, 6, 7, 2, 3, 3]))"
   ]
  },
  {
   "cell_type": "code",
   "execution_count": 81,
   "id": "1737dfa8",
   "metadata": {},
   "outputs": [
    {
     "name": "stdout",
     "output_type": "stream",
     "text": [
      "24\n"
     ]
    }
   ],
   "source": [
    "# 6. Escribe una función que calcule el factorial de un número de manera recursiva.\n",
    "def factorial(numero):\n",
    "    if numero == 0 or numero  == 1:\n",
    "        return 1\n",
    "    else: \n",
    "        return numero * factorial (numero-1)\n",
    "print (factorial(4))"
   ]
  },
  {
   "cell_type": "code",
   "execution_count": null,
   "id": "b75257c3",
   "metadata": {},
   "outputs": [
    {
     "name": "stdout",
     "output_type": "stream",
     "text": [
      "['(1, 2)', '(4, 5)', '(7, 8)']\n"
     ]
    }
   ],
   "source": [
    "# 7. Genera una función que convierta una lista de tuplas a una lista de strings. Usa la función map()\n",
    "lista_tuplas = [(1,2), (4,5), (7,8)]\n",
    "\n",
    "def funciom_ej7(lista):\n",
    "    return list(map(lambda x: str(x), lista))\n",
    "\n",
    "print (funciom_ej7(lista_tuplas))"
   ]
  },
  {
   "cell_type": "code",
   "execution_count": null,
   "id": "026017b1",
   "metadata": {},
   "outputs": [
    {
     "name": "stdout",
     "output_type": "stream",
     "text": [
      "La division ha sido existosa, tu resultado es:  50.0\n"
     ]
    }
   ],
   "source": [
    "\"\"\"8. Escribe un programa que pida al usuario dos números e intente dividirlos. Si el usuario ingresa un valor no numérico\n",
    "o intenta dividir por cero, maneja esas excepciones de manera adecuada. Asegúrate de mostrar un mensaje\n",
    "indicando si la división fue exitosa o no.\n",
    "\"\"\"\n",
    "num1 = input(\"Introduce el primer número: \")\n",
    "num2 = input(\"Introduce el segundo número: \")\n",
    "try:\n",
    "    print (\"La division ha sido existosa, tu resultado es: \", int(num1)/int(num2))\n",
    "except ZeroDivisionError:\n",
    "    print (\"No se puede dividir entre 0\")\n",
    "except ValueError:\n",
    "    print(\"Has introducido un tipo de dato no valido\")"
   ]
  },
  {
   "cell_type": "code",
   "execution_count": 138,
   "id": "8a8cd3b1",
   "metadata": {},
   "outputs": [
    {
     "name": "stdout",
     "output_type": "stream",
     "text": [
      "['Elefante', 'León', 'Cebra', 'Jirafa', 'Loro', 'Koala', 'Panda']\n"
     ]
    }
   ],
   "source": [
    "\"\"\"9. Escribe una función que tome una lista de nombres de mascotas como parámetro y devuelva una nueva lista\n",
    "excluyendo ciertas mascotas prohibidas en España. La lista de mascotas a excluir es [\"Mapache\", \"Tigre\",\n",
    "\"Serpiente Pitón\", \"Cocodrilo\", \"Oso\"].Usa la función filter()\n",
    "\"\"\"\n",
    "lista_prohibidos = [\"Mapache\", \"Tigre\", \"Serpiente Pitón\", \"Cocodrilo\", \"Oso\"]\n",
    "def funciom_ej9(lista_animales, lista2 = lista_prohibidos):\n",
    "    return [animal for animal in lista_animales if animal.lower() not in [animal.lower() for animal in lista2]]\n",
    "\n",
    "animales_ejemplo = [\"Elefante\", \"León\", \"Cebra\", \"Jirafa\", \"Loro\", \"Oso\", \"Koala\", \"Panda\", \"Mapache\", \"Cocodrilo\"]\n",
    "\n",
    "print (funciom_ej9(animales_ejemplo))\n",
    "\n",
    "\n"
   ]
  },
  {
   "cell_type": "code",
   "execution_count": 149,
   "id": "f19bd388",
   "metadata": {},
   "outputs": [
    {
     "name": "stdout",
     "output_type": "stream",
     "text": [
      "No se puede dividir entre 0\n",
      "('La media es: ', 4.0)\n"
     ]
    }
   ],
   "source": [
    "\"\"\"10. Escribe una función que reciba una lista de números y calcule su promedio. Si la lista está vacía, lanza una\n",
    "excepción personalizada y maneja el error adecuadamente.\n",
    "    \"\"\"\n",
    "def funcion_ej10(lista_numeros):\n",
    "    total = 0\n",
    "    try:\n",
    "        for numero in lista_numeros:\n",
    "            total += numero\n",
    "        return (\"La media es: \", total/len(lista_numeros))\n",
    "    except ZeroDivisionError:\n",
    "        return (\"No se puede dividir entre 0\")\n",
    "lista = []\n",
    "\n",
    "print(funcion_ej10([]))\n",
    "print (funcion_ej10([1, 2, 3, 4, 10]))"
   ]
  },
  {
   "cell_type": "code",
   "execution_count": 158,
   "id": "fd9acf2d",
   "metadata": {},
   "outputs": [
    {
     "name": "stdout",
     "output_type": "stream",
     "text": [
      "No has introducido un tipo de dato valido\n"
     ]
    }
   ],
   "source": [
    "\"\"\"11. Escribe un programa que pida al usuario que introduzca su edad. Si el usuario ingresa un valor no numérico o un\n",
    "valor fuera del rango esperado (por ejemplo, menor que 0 o mayor que 120), maneja las excepciones\n",
    "adecuadamente.\"\"\"\n",
    "try: \n",
    "    edad = int(input(\"EDAD: \"))\n",
    "    if edad < 0 or edad > 120:\n",
    "        print (\"No has introducido una edad valida\")\n",
    "except ValueError:\n",
    "    print (\"No has introducido un tipo de dato valido\")"
   ]
  },
  {
   "cell_type": "code",
   "execution_count": 165,
   "id": "7da821ee",
   "metadata": {},
   "outputs": [
    {
     "data": {
      "text/plain": [
       "[2, 5, 2, 2, 4, 2, 8, 9, 9, 3, 4, 4]"
      ]
     },
     "execution_count": 165,
     "metadata": {},
     "output_type": "execute_result"
    }
   ],
   "source": [
    "\"\"\"12. Genera una función que al recibir una frase devuelva una lista con la longitud de cada palabra. Usa la función map()\"\"\"\n",
    "def funcion_ej12(frase):\n",
    "    sin_espacios = frase.split()\n",
    "    return list(map(len, sin_espacios))\n",
    "\n",
    "#frase aleatoria generada por IA\n",
    "frase_aleatoria = \"El éxito es la suma de pequeños esfuerzos repetidos día tras día.\"\n",
    "funcion_ej12(frase_aleatoria)"
   ]
  },
  {
   "cell_type": "code",
   "execution_count": 175,
   "id": "41ef6af9",
   "metadata": {},
   "outputs": [
    {
     "data": {
      "text/plain": [
       "[('H', 'h'),\n",
       " ('U', 'u'),\n",
       " ('E', 'e'),\n",
       " ('O', 'o'),\n",
       " ('T', 't'),\n",
       " ('A', 'a'),\n",
       " ('L', 'l'),\n",
       " ('Q', 'q'),\n",
       " (' ', ' ')]"
      ]
     },
     "execution_count": 175,
     "metadata": {},
     "output_type": "execute_result"
    }
   ],
   "source": [
    "\"\"\"13. Genera una función la cual, para un conjunto de caracteres, devuelva una lista de tuplas con cada letra en\n",
    "mayúsculas y minúsculas. Las letras no pueden estar repetidas .Usa la función map()\"\"\"\n",
    "def funcion_ej13(caracteres):\n",
    "    caracteres_cambiados = set(caracteres.lower()) #lo pasamos a set para que no haya nada repeetido\n",
    "    return list(map(lambda x: (x.upper(), x), caracteres_cambiados))\n",
    "\n",
    "funcion_ej13(\"Hola que tal\")"
   ]
  },
  {
   "cell_type": "code",
   "execution_count": 184,
   "id": "59d68b8c",
   "metadata": {},
   "outputs": [
    {
     "name": "stdout",
     "output_type": "stream",
     "text": [
      "['Manzana', 'Melón', 'Mango', 'Mandarina']\n"
     ]
    }
   ],
   "source": [
    "\"\"\"14. Crea una función que retorne las palabras de una lista de palabras que comience con una letra en especifico. Usa la\n",
    "función filter()\"\"\"\n",
    "def funcion_ej14(lista_palabras, letra):\n",
    "    return list(filter(lambda palabra: palabra.lower().startswith(letra.lower()), lista_palabras))\n",
    "\n",
    "\n",
    "print(funcion_ej14( [\"Manzana\", \"Melón\", \"Pera\", \"Mango\", \"Naranja\", \"Mandarina\"], 'm'))"
   ]
  },
  {
   "cell_type": "code",
   "execution_count": 190,
   "id": "81d8421a",
   "metadata": {},
   "outputs": [
    {
     "name": "stdout",
     "output_type": "stream",
     "text": [
      "[8, 9, 10, 11, 12, 13]\n"
     ]
    }
   ],
   "source": [
    "\"\"\"15. Crea una función lambda que sume 3 a cada número de una lista dada.\"\"\"\n",
    "lista_ej15 = [5, 6, 7,8, 9, 10]\n",
    "mas3 = list(map(lambda x: x+3, lista_ej15))\n",
    "print (mas3)"
   ]
  },
  {
   "cell_type": "code",
   "execution_count": 194,
   "id": "edb54260",
   "metadata": {},
   "outputs": [
    {
     "name": "stdout",
     "output_type": "stream",
     "text": [
      "['JUGAR', 'PARQUE', 'AMIGOS', 'GANAMOS', 'PARTIDO', 'FUTBOL']\n"
     ]
    }
   ],
   "source": [
    "\"\"\"16. Escribe una función que tome una cadena de texto y un número entero n como parámetros y devuelva una lista de\n",
    "todas las palabras que sean más largas que n. Usa la función filter()\"\"\"\n",
    "def funcion_ej16(cadena_texto, numero):\n",
    "    palabras_cadena_texto = cadena_texto.split()\n",
    "    return list(filter(lambda x: len(x) > numero, palabras_cadena_texto))\n",
    "\n",
    "print (funcion_ej16(\"AYER ME FUI A JUGAR AL PARQUE CON MIS AMIGOS Y GANAMOS EL PARTIDO DE FUTBOL\", 4))"
   ]
  },
  {
   "cell_type": "code",
   "execution_count": 199,
   "id": "e5d39427",
   "metadata": {},
   "outputs": [
    {
     "name": "stdout",
     "output_type": "stream",
     "text": [
      "572\n"
     ]
    }
   ],
   "source": [
    "\"\"\"17. Crea una función que tome una lista de dígitos y devuelva el número correspondiente. Por ejemplo, [5,7,2]\n",
    "corresponde al número quinientos setenta y dos (572). Usa la función reduce()\"\"\"\n",
    "from functools import reduce\n",
    "\n",
    "def funciom_ej17(numeros):\n",
    "    #coge el 5 y lo hage 50, depues suma el 7 y tiene 57, luego eso lo multiplica por 10 y tiene 570 y le suma 2\n",
    "    return reduce(lambda x,y: x*10 +y, numeros)\n",
    "\n",
    "print (funciom_ej17([5, 7, 2]))"
   ]
  },
  {
   "cell_type": "code",
   "execution_count": 203,
   "id": "71656787",
   "metadata": {},
   "outputs": [
    {
     "name": "stdout",
     "output_type": "stream",
     "text": [
      "[{'nombre': 'Luis', 'edad': 22, 'calificacion': 92}, {'nombre': 'Carlos', 'edad': 21, 'calificacion': 95}, {'nombre': 'Elena', 'edad': 20, 'calificacion': 90}]\n"
     ]
    }
   ],
   "source": [
    "\"\"\"18. Escribe un programa en Python que cree una lista de diccionarios que contenga información de estudiantes\n",
    "(nombre, edad, calificación) y use la función filter para extraer a los estudiantes con una calificación mayor o igual a\n",
    "90. Usa la función filter()\"\"\"\n",
    "\n",
    "estudiantes = [\n",
    "    {\"nombre\": \"Ana\", \"edad\": 20, \"calificacion\": 85},\n",
    "    {\"nombre\": \"Luis\", \"edad\": 22, \"calificacion\": 92},\n",
    "    {\"nombre\": \"Marta\", \"edad\": 19, \"calificacion\": 88},\n",
    "    {\"nombre\": \"Carlos\", \"edad\": 21, \"calificacion\": 95},\n",
    "    {\"nombre\": \"Elena\", \"edad\": 20, \"calificacion\": 90}\n",
    "]\n",
    "estudiantes_mas90 = list(filter(lambda x: x['calificacion'] >= 90, estudiantes))\n",
    "print(estudiantes_mas90)\n",
    "\n"
   ]
  },
  {
   "cell_type": "code",
   "execution_count": 206,
   "id": "48681bea",
   "metadata": {},
   "outputs": [
    {
     "name": "stdout",
     "output_type": "stream",
     "text": [
      "[613, 6513, 7, 5, 97]\n"
     ]
    }
   ],
   "source": [
    "\"\"\"19. Crea una función lambda que filtre los números impares de una lista dada.\"\"\"\n",
    "lista_ejemplo19 = [12, 613, 6513, 12, 7, 5, 30, 97]\n",
    "numeros_filtrados = list(filter(lambda x: x%2 != 0, lista_ejemplo19))\n",
    "print (numeros_filtrados)"
   ]
  },
  {
   "cell_type": "code",
   "execution_count": 209,
   "id": "49903f35",
   "metadata": {},
   "outputs": [
    {
     "name": "stdout",
     "output_type": "stream",
     "text": [
      "[10, 25, 42, 7]\n"
     ]
    }
   ],
   "source": [
    "\"\"\"20. Para una lista con elementos tipo integer y string obtén una nueva lista sólo con los valores int. Usa la función\n",
    "filter()\"\"\"\n",
    "lista_variada = [10, \"manzana\", 25, \"perro\", 42, \"casa\", 7, \"python\"]\n",
    "lista_filtrada = list(filter(lambda x: type(x) == int, lista_variada))\n",
    "print (lista_filtrada)"
   ]
  },
  {
   "cell_type": "code",
   "execution_count": 219,
   "id": "68a390bc",
   "metadata": {},
   "outputs": [
    {
     "name": "stdout",
     "output_type": "stream",
     "text": [
      "27\n",
      "125\n"
     ]
    }
   ],
   "source": [
    "\"\"\"21. Crea una función que calcule el cubo de un número dado mediante una función lambda\"\"\"\n",
    "cubo = lambda x: x**3\n",
    "print(cubo(3))\n",
    "print(cubo(5))"
   ]
  },
  {
   "cell_type": "code",
   "execution_count": 223,
   "id": "270f14a2",
   "metadata": {},
   "outputs": [
    {
     "name": "stdout",
     "output_type": "stream",
     "text": [
      "362880\n"
     ]
    }
   ],
   "source": [
    "\"\"\"22. Dada una lista numérica, obtén el producto total de los valores de dicha lista.Usa la función reduce() .\"\"\"\n",
    "numeros = [2, 3, 4, 5, 6, 7, 8, 9]\n",
    "numeros_filtrados = reduce(lambda x,y: x*y, numeros)\n",
    "print (numeros_filtrados)"
   ]
  },
  {
   "cell_type": "code",
   "execution_count": 225,
   "id": "58ab0e54",
   "metadata": {},
   "outputs": [
    {
     "name": "stdout",
     "output_type": "stream",
     "text": [
      "solárbolcaminomontañaríonubeflorviento\n"
     ]
    }
   ],
   "source": [
    "\"\"\"23. Concatena una lista de palabras. Usa la función reduce() .\"\"\"\n",
    "palabras = [\"sol\", \"árbol\", \"camino\", \"montaña\", \"río\", \"nube\", \"flor\", \"viento\"]\n",
    "palabras_concatenadas = reduce(lambda x,y: x+y, palabras)\n",
    "print (palabras_concatenadas)"
   ]
  },
  {
   "cell_type": "code",
   "execution_count": 228,
   "id": "76ad39d4",
   "metadata": {},
   "outputs": [
    {
     "name": "stdout",
     "output_type": "stream",
     "text": [
      "5\n"
     ]
    }
   ],
   "source": [
    "\"\"\"24. Calcula la diferencia total en los valores de una lista. Usa la función reduce() .\"\"\"\n",
    "numeros = [10, 3, 2]\n",
    "numeros_filtrados = reduce(lambda x,y: x-y, numeros)\n",
    "print (numeros_filtrados)"
   ]
  },
  {
   "cell_type": "code",
   "execution_count": 230,
   "id": "6ad6fdf8",
   "metadata": {},
   "outputs": [],
   "source": [
    "\"\"\"25. Crea una función que cuente el número de caracteres en una cadena de texto dada.\"\"\"\n",
    "def contar (texto):\n",
    "    return len(texto)"
   ]
  },
  {
   "cell_type": "code",
   "execution_count": 231,
   "id": "9312e8d8",
   "metadata": {},
   "outputs": [],
   "source": [
    "\"\"\"26. Crea una función lambda que calcule el resto de la división entre dos números dados.\"\"\"\n",
    "resto = lambda x, y: x % y"
   ]
  },
  {
   "cell_type": "code",
   "execution_count": 235,
   "id": "d8c1781e",
   "metadata": {},
   "outputs": [
    {
     "data": {
      "text/plain": [
       "5.5"
      ]
     },
     "execution_count": 235,
     "metadata": {},
     "output_type": "execute_result"
    }
   ],
   "source": [
    "\"\"\"27. Crea una función que calcule el promedio de una lista de números.\"\"\"\n",
    "def funcion_ej27(lista):\n",
    "    return reduce(lambda x,y: x+y, lista)/len(lista)\n",
    "numeros = [2, 3, 4, 5, 6, 7, 8, 9]\n",
    "funcion_ej27(numeros)"
   ]
  },
  {
   "cell_type": "code",
   "execution_count": 237,
   "id": "396148e7",
   "metadata": {},
   "outputs": [
    {
     "name": "stdout",
     "output_type": "stream",
     "text": [
      "45\n"
     ]
    }
   ],
   "source": [
    "\"\"\"28. Crea una función que busque y devuelva el primer elemento duplicado en una lista dada.\"\"\"\n",
    "numeros = [23, 87, 45, 12, 68, 90, 34, 45, 5, 51]\n",
    "for i in range(len(numeros)):\n",
    "    if numeros[i] in numeros[i+1:]:\n",
    "        print (numeros[i])\n",
    "        break"
   ]
  },
  {
   "cell_type": "code",
   "execution_count": 243,
   "id": "891d0fd9",
   "metadata": {},
   "outputs": [
    {
     "data": {
      "text/plain": [
       "'######seña'"
      ]
     },
     "execution_count": 243,
     "metadata": {},
     "output_type": "execute_result"
    }
   ],
   "source": [
    "\"\"\"29. Crea una función que convierta una variable en una cadena de texto y enmascare todos los caracteres con el\n",
    "carácter '#', excepto los últimos cuatro.\"\"\"\n",
    "def funcion_ej29(variable):\n",
    "    str(variable)\n",
    "    if len(variable) <= 4:\n",
    "        return variable\n",
    "    else:\n",
    "        return '#' * (len(variable) -4) + variable[-4:]\n",
    "    \n",
    "funcion_ej29(\"contraseña\")\n"
   ]
  },
  {
   "cell_type": "code",
   "execution_count": null,
   "id": "9baa56d0",
   "metadata": {},
   "outputs": [
    {
     "name": "stdout",
     "output_type": "stream",
     "text": [
      "Son anagramas\n",
      "No son anagramas\n"
     ]
    }
   ],
   "source": [
    "\"\"\"30. Crea una función que determine si dos palabras son anagramas, es decir, si están formadas por las mismas letras\n",
    "pero en diferente orden.\"\"\"\n",
    "def anagramas(p1, p2):\n",
    "    if sorted(p1.lower()) == sorted(p2.lower()):\n",
    "        print (\"Son anagramas\")\n",
    "    else:\n",
    "        print (\"No son anagramas\") \n",
    "\n",
    "anagramas(\"amor\", \"roma\")\n",
    "anagramas(\"mario\", \"flor\")"
   ]
  },
  {
   "cell_type": "code",
   "execution_count": 254,
   "id": "62678a2a",
   "metadata": {},
   "outputs": [
    {
     "name": "stdout",
     "output_type": "stream",
     "text": [
      "El nombre no fue encontrado\n"
     ]
    }
   ],
   "source": [
    "\"\"\"31. Crea una función que solicite al usuario ingresar una lista de nombres y luego solicite un nombre para buscar en\n",
    "esa lista. Si el nombre está en la lista, se imprime un mensaje indicando que fue encontrado, de lo contrario, se\n",
    "lanza una excepción.\"\"\"\n",
    "def funcion_ej31():\n",
    "    usuario = input(\"INGRESA LA LISTA DE NOMBRES: \").lower()\n",
    "    lista_nombres = usuario.split()\n",
    "    busqueda = input(\"INGRESA EL NOMBRE QUE QUIERES BUSCAR: \").lower()\n",
    "    if busqueda in lista_nombres:\n",
    "        print(\"El nombre fue encontrado\")\n",
    "    else:\n",
    "        print(\"El nombre no fue encontrado\")\n",
    "funcion_ej31()\n"
   ]
  },
  {
   "cell_type": "code",
   "execution_count": 268,
   "id": "a84a6b28",
   "metadata": {},
   "outputs": [
    {
     "name": "stdout",
     "output_type": "stream",
     "text": [
      "Gerente\n",
      "Analista\n"
     ]
    }
   ],
   "source": [
    "\"\"\"32. Crea una función que tome un nombre completo y una lista de empleados, busque el nombre completo en la lista y\n",
    "devuelve el puesto del empleado si está en la lista, de lo contrario, devuelve un mensaje indicando que la persona\n",
    "no trabaja aquí.\"\"\"\n",
    "def funcion_ej32(nombre_completo, empleados):\n",
    "    for empleado in empleados:\n",
    "        if empleado.get(\"nombre\").lower() == nombre_completo.lower():\n",
    "            return empleado.get(\"puesto\") \n",
    "    return (f\"{nombre_completo} no trabaja aquí\")\n",
    "\n",
    "empleados = [\n",
    "    {\"nombre\": \"Ana Luisa\", \"puesto\": \"Gerente\"},\n",
    "    {\"nombre\": \"Mario Fernandez\", \"puesto\": \"Analista\"},\n",
    "    {\"nombre\": \"Pedro Rodriguez\", \"puesto\": \"Programadora\"}\n",
    "]\n",
    "\n",
    "\n",
    "print(funcion_ej32(\"Ana Luisa\", empleados)) #da como resultado \"Gerente\"\n",
    "print(funcion_ej32(\"Mario Fernandez\", empleados)) #da como resultado \"Analista\"\n"
   ]
  },
  {
   "cell_type": "code",
   "execution_count": 271,
   "id": "8573d04c",
   "metadata": {},
   "outputs": [
    {
     "name": "stdout",
     "output_type": "stream",
     "text": [
      "[11, 22, 33, 44, 55, 66]\n"
     ]
    }
   ],
   "source": [
    "\"\"\"33. Crea una función lambda que sume elementos correspondientes de dos listas dadas.\"\"\"\n",
    "lista1 = [1, 2, 3, 4, 5, 6]\n",
    "lista2 = [10, 20, 30, 40, 50, 60]\n",
    "suma_listas = list(map(lambda x,y: x+y, lista1, lista2))\n",
    "print (suma_listas)"
   ]
  },
  {
   "cell_type": "code",
   "execution_count": 285,
   "id": "f074489b",
   "metadata": {},
   "outputs": [
    {
     "name": "stdout",
     "output_type": "stream",
     "text": [
      "Tu arbol tiene 100cm de tronco, 8 ramas que miden 50 cm cada una. \n",
      "Ahora tu tronco mide 150 cm\n",
      "Ahora tu tronco tiene 11 ramas\n",
      "Ahora tus ramas miden 65 cm\n",
      "Ahora tu tronco tiene 9 ramas\n",
      "Tu arbol tiene 150cm de tronco, 9 ramas que miden 65 cm cada una. \n"
     ]
    }
   ],
   "source": [
    "\"\"\"34. Crea la clase Arbol , define un árbol genérico con un tronco y ramas como atributos. Los métodos disponibles son:\n",
    "crecer_tronco , nueva_rama , crecer_ramas , quitar_rama e info_arbol . El objetivo es implementar estos métodos para\n",
    "manipular la estructura del árbol.\"\"\"\n",
    "class Arbol:\n",
    "    def __init__(self, tronco, numero_ramas, longitud_ramas):\n",
    "        self.tronco = tronco\n",
    "        self.numero_ramas = numero_ramas\n",
    "        self.longitud_ramas = longitud_ramas\n",
    "    \n",
    "    def crecer_tronco(self, cm): #recibe como parametros los cm que quiere de aumento \n",
    "        self.tronco = self.tronco + cm\n",
    "        return (f\"Ahora tu tronco mide {self.tronco} cm\")\n",
    "    \n",
    "    def nueva_rama(self, aumento_numero_ramas): #recibe como parametros cuantas ramas quiere añadir al arbol\n",
    "\n",
    "        if aumento_numero_ramas == 0:\n",
    "            return (self.numero_ramas)\n",
    "        else:\n",
    "            self.numero_ramas +=  aumento_numero_ramas\n",
    "            return (f\"Ahora tu tronco tiene {self.numero_ramas} ramas\")\n",
    "\n",
    "    def crecer_ramas(self, aumento_longitud_ramas):\n",
    "        if aumento_longitud_ramas == 0:\n",
    "            return (self.longitud_ramas)\n",
    "        else:\n",
    "            self.longitud_ramas += aumento_longitud_ramas\n",
    "            return (f\"Ahora tus ramas miden {self.longitud_ramas} cm\")\n",
    "    \n",
    "    def quitar_rama(self, numero_ramas_quitar):\n",
    "        if numero_ramas_quitar == 0:\n",
    "            return (self.numero_ramas)\n",
    "        else:\n",
    "            self.numero_ramas -= numero_ramas_quitar\n",
    "            return (f\"Ahora tu tronco tiene {self.numero_ramas} ramas\")\n",
    "    \n",
    "    def info_arbol(self):\n",
    "        return (f\"Tu arbol tiene {self.tronco}cm de tronco, {self.numero_ramas} ramas que miden {self.longitud_ramas} cm cada una. \")\n",
    "\n",
    "arbol_ejemplo = Arbol(100, 8, 50)\n",
    "print(arbol_ejemplo.info_arbol()) # --> 'Tu arbol tiene 100cm de tronco, 8 ramas que miden 50 cm cada una. '\n",
    "\n",
    "#probamos a crecer su tronco\n",
    "print(arbol_ejemplo.crecer_tronco(50)) # --> 'Ahora tu tronco mide 150 cm'\n",
    "\n",
    "#probamos a añadir una rama\n",
    "print(arbol_ejemplo.nueva_rama(3)) # --> 'Ahora tu tronco mide 150 cm'\n",
    "\n",
    "#probamos a crecer su tronco\n",
    "print(arbol_ejemplo.crecer_ramas(15)) # --> 'Ahora tu tronco mide 150 cm'\n",
    "\n",
    "#probamos a crecer su tronco\n",
    "print(arbol_ejemplo.quitar_rama(2)) # --> 'Ahora tu tronco mide 150 cm'\n",
    "\n",
    "print (arbol_ejemplo.info_arbol())"
   ]
  },
  {
   "cell_type": "code",
   "execution_count": 299,
   "id": "f0838542",
   "metadata": {},
   "outputs": [
    {
     "name": "stdout",
     "output_type": "stream",
     "text": [
      "Ahora Bob tiene 70\n",
      "Transferencia interrumpida, Bob no tiene tanto dinero\n",
      "None\n",
      "Retiro realizado con éxito. Ahora Alicia tiene 50€\n"
     ]
    }
   ],
   "source": [
    "\"\"\"36. Crea la clase UsuarioBanco ,representa a un usuario de un banco con su nombre, saldo y si tiene o no cuenta\n",
    "corriente. Proporciona métodos para realizar operaciones como retirar dinero, transferir dinero desde otro usuario y\n",
    "agregar dinero al saldo.\"\"\"\n",
    "class UsuarioBanco:\n",
    "    def __init__(self, nombre, saldo, cuenta):\n",
    "        self.nombre = nombre\n",
    "        self.saldo = saldo\n",
    "        self.cuenta = cuenta\n",
    "\n",
    "    \"\"\"METODOS\"\"\"\n",
    "\n",
    "    def retirar_dinero(self, cantidad_a_retirar):\n",
    "        if self.cuenta == True:\n",
    "            if cantidad_a_retirar > self.saldo:\n",
    "                print(f\"No puedes retirar tanta cantidad, recuerda que tu saldo es de {self.saldo}€\")\n",
    "            else:\n",
    "                self.saldo -= cantidad_a_retirar\n",
    "                return (f\"Retiro realizado con éxito. Ahora {self.nombre} tiene {self.saldo}€\")\n",
    "\n",
    "    def transferir_dinero(self, usuario_donante ,cantidad_a_transferir):\n",
    "        if self.cuenta == True:\n",
    "            if usuario_donante.saldo < cantidad_a_transferir:\n",
    "                print(f\"Transferencia interrumpida, {usuario_donante.nombre} no tiene tanto dinero\")\n",
    "            else:\n",
    "                usuario_donante.saldo -= cantidad_a_transferir\n",
    "                self.saldo += cantidad_a_transferir\n",
    "                return (f\"Transferencia realizaca con exito. Ahora tienes{self.saldo}€\")\n",
    "        \n",
    "    def agregar_dinero (self, dinero_a_agregar):\n",
    "        if self.cuenta == True:\n",
    "            self.saldo += dinero_a_agregar\n",
    "            return (f\"Ahora {self.nombre} tiene {self.saldo}\")\n",
    "        \n",
    "\n",
    "\"\"\"1. Crear dos usuarios: \"Alicia\" con saldo inicial de 100 y \"Bob\" con saldo inicial de 50, ambos con cuenta corriente.\"\"\"\n",
    "Alicia = UsuarioBanco(\"Alicia\", 100, True)\n",
    "Bob = UsuarioBanco(\"Bob\", 50, True)\n",
    "\n",
    "\"\"\"2. Agregar 20 unidades de saldo de \"Bob\".\"\"\"\n",
    "print(Bob.agregar_dinero(20))\n",
    "\n",
    "\"\"\"3. Hacer una transferencia de 80 unidades desde \"Bob\" a \"Alicia\".\"\"\"\n",
    "print(Alicia.transferir_dinero(Bob, 80))\n",
    "\n",
    "\"\"\"4. Retirar 50 unidades de saldo a \"Alicia\".\"\"\"\n",
    "print (Alicia.retirar_dinero(50))"
   ]
  },
  {
   "cell_type": "code",
   "execution_count": 320,
   "id": "b8c02bc3",
   "metadata": {},
   "outputs": [
    {
     "name": "stdout",
     "output_type": "stream",
     "text": [
      "{'El': 2, 'sol': 3, 'se': 2, 'escondía': 8, 'detrás': 6, 'de': 2, 'las': 3, 'montañas,': 9, 'pintando': 8, 'el': 2, 'cielo': 5, 'tonos': 5, 'anaranjados': 11}\n",
      "El sol se escondía detrás de las montañas, pintando el cielo de tonos anaranjados\n",
      "El sol se escondía detrás de las montañas, pintando el cielo de tonos anaranjados\n"
     ]
    }
   ],
   "source": [
    "\"\"\"37. Crea una función llamada procesar_texto que procesa un texto según la opción especificada: contar_palabras ,\n",
    "reemplazar_palabras , eliminar_palabra . Estas opciones son otras funciones que tenemos que definir primero y llamar dentro\n",
    "de la función procesar_texto .\"\"\"\n",
    "\n",
    "\"\"\"1. Crear una función contar_palabras para contar el número de veces que aparece cada palabra en el texto. Tiene\n",
    "        que devolver un diccionario.\"\"\"\n",
    "def contar_palabras(texto):\n",
    "    dic_ej37 = {}\n",
    "    for palabra in texto.split():\n",
    "        dic_ej37[palabra] = len(palabra)\n",
    "    return(dic_ej37)\n",
    "\n",
    "\"\"\"2. Crear una función reemplazar_palabras para remplazar una palabra_original del texto por una palabra_nueva . Tiene\n",
    "que devolver el texto con el remplazo de palabras.\"\"\"\n",
    "def reemplazar_palabras(texto, palabra_a_reemplazar, palabra_nueva):\n",
    "    if palabra_a_reemplazar not in texto:\n",
    "        print(\"Esa palabra no esta en el texto\")\n",
    "    else:\n",
    "        return texto.replace(palabra_a_reemplazar, palabra_nueva)\n",
    "\n",
    "\"\"\"3. Crear una función eliminar_palabra para eliminar una palabra del texto. Tiene que devolver el texto con la palabra\n",
    "eliminada.\"\"\"\n",
    "def eliminar_palabra(texto, palabra_a_eliminar):\n",
    "    if palabra_a_eliminar not in texto:\n",
    "        print(\"Esa palabra no esta en el texto\")\n",
    "        return(texto)\n",
    "    else:\n",
    "        return texto.replace(palabra_a_eliminar, \"\")\n",
    "\n",
    "\"\"\"4. Crear la función procesar_texto que tome un texto, una opción(entre \"contar\", \"reemplazar\", \"eliminar\") y un\n",
    "número de argumentos variable según la opción indicada.\"\"\"\n",
    "def procesar_texto(texto, funcion):\n",
    "    if funcion == 'contar':\n",
    "        return contar_palabras(texto)\n",
    "    \n",
    "    if funcion == 'reemplazar':\n",
    "        reemplazada = input(\"INDICA LA PALABRA A REEMPLAZAR\")\n",
    "        reemplazo = input(\"INDICA LA PALABRA NUEVA\").lower()\n",
    "        return reemplazar_palabras(texto, reemplazada, reemplazo)\n",
    "    \n",
    "    if funcion == 'eliminar':\n",
    "        eliminada = input(\"INDICA LA PALABRA A ELIMINAR\")\n",
    "        return eliminar_palabra(texto, eliminada)\n",
    "    \n",
    "#TEXTO EJEMPLO GENERADO POR IA\n",
    "texto_aleatorio = \"El sol se escondía detrás de las montañas, pintando el cielo de tonos anaranjados\"\n",
    "\n",
    "#PROBAMOS CADA UNA DE LAS OPCIONES\n",
    "print(procesar_texto(texto_aleatorio, \"contar\"))\n",
    "print(procesar_texto(texto_aleatorio, \"reemplazar\")) #El sol se escondía detrás de las COLINAS, pintando el cielo de tonos anaranjados\n",
    "print(procesar_texto(texto_aleatorio, \"eliminar\"))\n"
   ]
  },
  {
   "cell_type": "code",
   "execution_count": 328,
   "id": "115ad309",
   "metadata": {},
   "outputs": [
    {
     "name": "stdout",
     "output_type": "stream",
     "text": [
      "Son las 16:20:00 y es por la tarde\n"
     ]
    }
   ],
   "source": [
    "\"\"\"38. Genera un programa que nos diga si es de noche, de día o tarde según la hora proporcionada por el usuario.\"\"\"\n",
    "import datetime\n",
    "hora = int(input(\"INDICA LA HORA: \"))\n",
    "minuto = int(input(\"INDICA EL MINUTO: \"))\n",
    "if 0 <= hora < 24 and 0 <= minuto <= 59:\n",
    "    hora_usuario = datetime.time(hora, minuto, 0)\n",
    "    if 6<=hora<=12:\n",
    "        print(f\"Son las {hora_usuario} y es por la mañana\")\n",
    "\n",
    "    if 12<hora<20:\n",
    "        print(f\"Son las {hora_usuario} y es por la tarde\")\n",
    "\n",
    "    if 20<=hora<24 or 0 <= hora < 6:\n",
    "        print(f\"Son las {hora_usuario} y es por la noche\")\n",
    "\n",
    "else:\n",
    "    print (\"Has introducido algun dato incorrecto\")\n"
   ]
  },
  {
   "cell_type": "code",
   "execution_count": 330,
   "id": "a0762ce1",
   "metadata": {},
   "outputs": [],
   "source": [
    "\"\"\"39. Escribe un programa que determine qué calificación en texto tiene un alumno en base a su calificación numérica.\n",
    "Las reglas de calificación son:\n",
    "- 0 - 69 insuficiente\n",
    "- 70 - 79 bien\n",
    "- 80 - 89 muy bien\n",
    "- 90 - 100 excelente\"\"\"\n",
    "def calificacion(nota):\n",
    "    if 0 <= nota <= 100:\n",
    "        if 0<= nota <=69:\n",
    "            print(\"Tu calificacion es INSUFICIENTE\")\n",
    "        if 70<= nota <=79:\n",
    "            print(\"Tu calificacion es BIEN\")\n",
    "        if 80<= nota <=89:\n",
    "            print(\"Tu calificacion es MUY BIEN\")\n",
    "        if 90<= nota <=100:\n",
    "            print(\"Tu calificacion es EXCELENTE\")\n",
    "    else:\n",
    "        print (\"Tu calificacion no esta entre 0 y 100\")"
   ]
  },
  {
   "cell_type": "code",
   "execution_count": null,
   "id": "d729dac7",
   "metadata": {},
   "outputs": [
    {
     "name": "stdout",
     "output_type": "stream",
     "text": [
      "El area del rectangulo es 15\n",
      "El area del circulo es 78.53981633974483\n",
      "El area es triangulo 21.0\n"
     ]
    }
   ],
   "source": [
    "\"\"\"40. Escribe una función que tome dos parámetros: figura (una cadena que puede ser \"rectangulo\" , \"circulo\" o\n",
    "\"triangulo\" ) y datos (una tupla con los datos necesarios para calcular el área de la figura).\"\"\"\n",
    "import math \n",
    "def area (figura, tupla_datos):\n",
    "    if figura == \"rectangulo\":\n",
    "        return (f\"El area del rectangulo es {tupla_datos[0] * tupla_datos[1]}\")\n",
    "    if figura == \"circulo\":\n",
    "        (radio, ) = tupla_datos\n",
    "        return (f\"El area del circulo es {radio**2 * math.pi}\")\n",
    "    if figura == \"triangulo\":\n",
    "        return (f\"El area es triangulo {(tupla_datos[0] * tupla_datos[1])/2}\")\n",
    "\n",
    "#RECTANGULO\n",
    "print(area (\"rectangulo\", (3, 5)))\n",
    "#CIRCULO\n",
    "print(area (\"circulo\", (5, )))\n",
    "\n",
    "#TRIANGULO\n",
    "print(area (\"triangulo\", (6, 7)))\n"
   ]
  },
  {
   "cell_type": "code",
   "execution_count": 352,
   "id": "7939c642",
   "metadata": {},
   "outputs": [
    {
     "name": "stdout",
     "output_type": "stream",
     "text": [
      "El precio de tu produco es de 80.0€\n"
     ]
    }
   ],
   "source": [
    "\"\"\"41. En este ejercicio, se te pedirá que escribas un programa en Python que utilice condicionales para determinar el\n",
    "monto final de una compra en una tienda en línea, después de aplicar un descuento. El programa debe hacer lo\n",
    "siguiente:\"\"\"\n",
    "# 1. Solicita al usuario que ingrese el precio original de un artículo.\n",
    "precio_articulo = float(input(\"PRECIO: \"))\n",
    "\n",
    "#2. Pregunta al usuario si tiene un cupón de descuento (respuesta sí o no).\n",
    "cupon = (input(\"TIENES CUPON(si/no): \"))\n",
    "if cupon.lower() == 'si':\n",
    "    cuantia = int(input(\"DE CUANTO ES TU CUPON: \"))\n",
    "    if cuantia > 0:\n",
    "        precio_con_descuento = precio_articulo - cuantia\n",
    "        print (f\"El precio de tu produco es de {precio_con_descuento}€\")\n",
    "    else:\n",
    "        print(\"Ese cupon no es valido\")\n",
    "else:\n",
    "    print (f\"El precio de tu produco es de {precio_articulo}€\")"
   ]
  }
 ],
 "metadata": {
  "kernelspec": {
   "display_name": "Python 3",
   "language": "python",
   "name": "python3"
  },
  "language_info": {
   "codemirror_mode": {
    "name": "ipython",
    "version": 3
   },
   "file_extension": ".py",
   "mimetype": "text/x-python",
   "name": "python",
   "nbconvert_exporter": "python",
   "pygments_lexer": "ipython3",
   "version": "3.13.2"
  }
 },
 "nbformat": 4,
 "nbformat_minor": 5
}
